{
 "cells": [
  {
   "cell_type": "markdown",
   "metadata": {},
   "source": [
    "Task 1: Write a Python program which accepts the radius of a circle from the user and compute the area.\n"
   ]
  },
  {
   "cell_type": "code",
   "execution_count": 9,
   "metadata": {},
   "outputs": [
    {
     "name": "stdout",
     "output_type": "stream",
     "text": [
      "Podaj promień 7\n",
      "Pole wynosi: 153.94\n"
     ]
    }
   ],
   "source": [
    "from math import pi\n",
    "radius=float(input(\"Podaj promień \"))\n",
    "area=round(radius**2*pi,2)\n",
    "print(\"Pole wynosi: \" + str(area))\n"
   ]
  },
  {
   "cell_type": "markdown",
   "metadata": {},
   "source": [
    "Task 2: Write a Python program which accepts the user's first and last name and print them in reverse order with a space between them."
   ]
  },
  {
   "cell_type": "code",
   "execution_count": 12,
   "metadata": {},
   "outputs": [
    {
     "name": "stdout",
     "output_type": "stream",
     "text": [
      "Podaj imię: Aneta\n",
      "Podaj nazwisko: Kowalczyk\n",
      "Nazywasz się: Kowalczyk Aneta\n"
     ]
    }
   ],
   "source": [
    "name=input(\"Podaj imię: \")\n",
    "surname=input(\"Podaj nazwisko: \")\n",
    "print(\"Nazywasz się: \" + surname + \" \" + name)"
   ]
  },
  {
   "cell_type": "markdown",
   "metadata": {},
   "source": [
    "Task 3:\n",
    "Write a Python program that accepts an integer (n) and computes the value of n+nn+nnn Sample value of n is 5 Expected Result : 615\n"
   ]
  },
  {
   "cell_type": "code",
   "execution_count": 24,
   "metadata": {},
   "outputs": [
    {
     "name": "stdout",
     "output_type": "stream",
     "text": [
      "Podaj liczbę: 12\n",
      "Wynik to: 122436\n"
     ]
    }
   ],
   "source": [
    "n=int(input(\"Podaj liczbę: \"))\n",
    "if n<10:\n",
    "    print(\"Wynik to: \" +str(n+10*n+n+100*n+10*n+n))\n",
    "else:\n",
    "    print(\"Wynik to: \" +str(n+100*n+n+n*10000+n*100+n))"
   ]
  },
  {
   "cell_type": "code",
   "execution_count": 27,
   "metadata": {},
   "outputs": [
    {
     "name": "stdout",
     "output_type": "stream",
     "text": [
      "Input an integer : 78\n",
      "795834\n"
     ]
    }
   ],
   "source": [
    "a = int(input(\"Input an integer : \")) \n",
    "n1 = int( \"%s\" % a ) \n",
    "n2 = int( \"%s%s\" % (a,a) ) \n",
    "n3 = int( \"%s%s%s\" % (a,a,a) ) \n",
    "print(n1+n2+n3) "
   ]
  },
  {
   "cell_type": "markdown",
   "metadata": {},
   "source": [
    "Task 4:\n",
    "Write a Python program to accept a filename from the user and print the extension of that."
   ]
  },
  {
   "cell_type": "code",
   "execution_count": 32,
   "metadata": {},
   "outputs": [
    {
     "name": "stdout",
     "output_type": "stream",
     "text": [
      "Podaj nazwę plikuPython.txt\n",
      "Rozszerzenie to: txt\n"
     ]
    }
   ],
   "source": [
    "file=input(\"Podaj nazwę pliku\")\n",
    "name=file.split(\".\")\n",
    "print(\"Rozszerzenie to: \" + name[-1])"
   ]
  },
  {
   "cell_type": "code",
   "execution_count": 33,
   "metadata": {},
   "outputs": [
    {
     "name": "stdout",
     "output_type": "stream",
     "text": [
      "Input the Filename: Python.txt\n",
      "The extension of the file is : 'txt'\n"
     ]
    }
   ],
   "source": [
    "filename = input(\"Input the Filename: \") \n",
    "f_extns = filename.split(\".\") \n",
    "print(\"The extension of the file is : \" + repr(f_extns[-1]))"
   ]
  },
  {
   "cell_type": "markdown",
   "metadata": {},
   "source": [
    "Task 5:\n",
    "Write a Python program which accepts a sequence of comma-separated numbers from user and generate a list and a tuple with those numbers"
   ]
  },
  {
   "cell_type": "code",
   "execution_count": 37,
   "metadata": {},
   "outputs": [
    {
     "name": "stdout",
     "output_type": "stream",
     "text": [
      "Podaj liczbę 9\n",
      "['9']\n",
      "('9',)\n"
     ]
    }
   ],
   "source": [
    "numbers=input(\"Podaj liczbę \")\n",
    "lista=numbers.split(\",\")\n",
    "tupl=tuple(numbers.split(\",\"))\n",
    "print(lista)\n",
    "print(tupl)\n"
   ]
  },
  {
   "cell_type": "markdown",
   "metadata": {},
   "source": [
    "Task 6:\n",
    "Write a Python program to check a dictionary is empty or not."
   ]
  },
  {
   "cell_type": "code",
   "execution_count": 44,
   "metadata": {},
   "outputs": [
    {
     "name": "stdout",
     "output_type": "stream",
     "text": [
      "Słownik jest pusty\n"
     ]
    }
   ],
   "source": [
    "dict={}\n",
    "if not bool(dict):\n",
    "    print(\"Słownik jest pusty\")"
   ]
  },
  {
   "cell_type": "markdown",
   "metadata": {},
   "source": [
    "Task 7:\n",
    "Write a Python program to add an item in a tuple."
   ]
  },
  {
   "cell_type": "code",
   "execution_count": 46,
   "metadata": {},
   "outputs": [
    {
     "data": {
      "text/plain": [
       "(91, 4, 6, 2)"
      ]
     },
     "execution_count": 46,
     "metadata": {},
     "output_type": "execute_result"
    }
   ],
   "source": [
    "tpl=(91,4,6)\n",
    "tpl+(2,)"
   ]
  },
  {
   "cell_type": "markdown",
   "metadata": {},
   "source": [
    "Task 8: Write a Python program to convert a tuple to a string"
   ]
  },
  {
   "cell_type": "code",
   "execution_count": 53,
   "metadata": {},
   "outputs": [
    {
     "data": {
      "text/plain": [
       "'soi'"
      ]
     },
     "execution_count": 53,
     "metadata": {},
     "output_type": "execute_result"
    }
   ],
   "source": [
    "tpl=(\"s\",'o','i')\n",
    "wynik=\"\".join(tpl)\n",
    "wynik"
   ]
  },
  {
   "cell_type": "code",
   "execution_count": null,
   "metadata": {},
   "outputs": [],
   "source": []
  }
 ],
 "metadata": {
  "kernelspec": {
   "display_name": "Python 3",
   "language": "python",
   "name": "python3"
  },
  "language_info": {
   "codemirror_mode": {
    "name": "ipython",
    "version": 3
   },
   "file_extension": ".py",
   "mimetype": "text/x-python",
   "name": "python",
   "nbconvert_exporter": "python",
   "pygments_lexer": "ipython3",
   "version": "3.6.4"
  }
 },
 "nbformat": 4,
 "nbformat_minor": 2
}
